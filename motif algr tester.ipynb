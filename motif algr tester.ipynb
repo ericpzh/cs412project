{
 "cells": [
  {
   "cell_type": "code",
   "execution_count": 1,
   "metadata": {},
   "outputs": [],
   "source": [
    "import numpy as np\n",
    "import os\n",
    "from Bio import SeqIO #pip install biopython\n",
    "from Bio.Seq import Seq\n",
    "from Bio.SeqRecord import SeqRecord"
   ]
  },
  {
   "cell_type": "code",
   "execution_count": 17,
   "metadata": {},
   "outputs": [],
   "source": [
    "#step 2\n",
    "def motif_finder(index):\n",
    "    def kernel(x):\n",
    "        #return 1 \n",
    "        return x \n",
    "        #return x**2 \n",
    "        #return x**2/2\n",
    "        #return x**(x/2)\n",
    "        #return x**x \n",
    "        \n",
    "    location = 'data_set_' + str(index) + '/' \n",
    "    seqs = []\n",
    "    for record in SeqIO.parse(os.path.join(location, 'sequences' + \".fasta\"), \"fasta\"):\n",
    "        seqs.append(str(record.seq))\n",
    "\n",
    "    with open(os.path.join(location,'motiflength.txt'), 'r') as f:\n",
    "        ML = int(f.read())\n",
    "        #f.close()    \n",
    "    \n",
    "    \n",
    "    #find frq-ML pattern\n",
    "    candidates = {}\n",
    "    for seq in seqs:\n",
    "        visited = {}\n",
    "        for i in range(0,len(seq) - ML):\n",
    "            if seq[i:i + ML] not in candidates:\n",
    "                candidates[seq[i:i + ML]] = 1\n",
    "                visited[seq[i:i + ML]] = 1\n",
    "            else:\n",
    "                if seq[i:i + ML] not in visited:\n",
    "                    visited[seq[i:i + ML]] = 1\n",
    "                    candidates[seq[i:i + ML]] += 1\n",
    "                \n",
    "    sorted_candidates = sorted(candidates.items(), key=lambda x: -x[1])            \n",
    "    \n",
    "    #print(sorted_candidates)\n",
    "    \n",
    "    min_sup = 4#max(candidates.values()) - 3\n",
    "    \n",
    "    #print(min_sup)\n",
    "    \n",
    "    frq_ml = [[list(i[0]), i[1]] for i in sorted_candidates if i[1] >= min_sup] #item, weight\n",
    "    \n",
    "    #print(frq_ml)\n",
    "    \n",
    "    motif = []\n",
    "    for i in range(ML):\n",
    "        cols = {}\n",
    "        sum_ = 0\n",
    "        for item in frq_ml:\n",
    "            sum_ += kernel(item[1])\n",
    "            if item[0][i] not in cols:\n",
    "                cols[item[0][i]] = kernel(item[1])\n",
    "            else:\n",
    "                cols[item[0][i]] += kernel(item[1])\n",
    "                \n",
    "        motif.append([\n",
    "            cols['A']/sum_ if 'A' in cols else 0, \n",
    "            cols['C']/sum_ if 'C' in cols else 0, \n",
    "            cols['G']/sum_ if 'G' in cols else 0, \n",
    "            cols['T']/sum_ if 'T' in cols else 0])\n",
    "    \n",
    "    print(motif)\n",
    "    return motif"
   ]
  },
  {
   "cell_type": "code",
   "execution_count": 18,
   "metadata": {},
   "outputs": [],
   "source": [
    "def motif_test(index, motif):\n",
    "    def KL(a, b):\n",
    "        a = np.asarray(a, dtype=np.float)\n",
    "        b = np.asarray(b, dtype=np.float)\n",
    "        return np.sum(np.where(a != 0, a * np.log(a / b), 0))\n",
    "    \n",
    "    location = 'data_set_' + str(index) + '/' \n",
    "    with open(os.path.join(location,'motif.txt'), 'r') as f:\n",
    "        x = f.read().strip().split('\\n')\n",
    "        y = [i.strip().split(',')[:-1] for i in x][1:]\n",
    "        z = [[float(j) for j in i] for i in y]\n",
    "        #f.close()   \n",
    "        \n",
    "    diff = 0\n",
    "    for i in range(len(motif)):\n",
    "        for j in range(4):\n",
    "            diff += abs(motif[i][j] - z[i][j])\n",
    "    \n",
    "    diff = 0\n",
    "    for i in range(len(motif)):\n",
    "        #print(motif[i], z[i])\n",
    "        kl = KL(motif[i], z[i]) \n",
    "        diff += kl if not np.isinf(kl) else 0 #ingore inf\n",
    "    #print(motif)\n",
    "    #print(z)\n",
    "    return diff\n",
    "    "
   ]
  },
  {
   "cell_type": "code",
   "execution_count": 19,
   "metadata": {},
   "outputs": [
    {
     "name": "stdout",
     "output_type": "stream",
     "text": [
      "[[0, 0.6923076923076923, 0, 0.3076923076923077], [0, 0, 0.38461538461538464, 0.6153846153846154], [0, 0.38461538461538464, 0.3076923076923077, 0.3076923076923077], [0, 0.3076923076923077, 0.6923076923076923, 0], [0, 0.3076923076923077, 0.6923076923076923, 0], [0.3076923076923077, 0.3076923076923077, 0, 0.38461538461538464], [0.6153846153846154, 0, 0.38461538461538464, 0]]\n",
      "[[0, 0.6666666666666666, 0.3333333333333333, 0], [0, 0, 0.3333333333333333, 0.6666666666666666], [0, 0.3333333333333333, 0, 0.6666666666666666], [0.3333333333333333, 0, 0, 0.6666666666666666], [0, 0.6666666666666666, 0, 0.3333333333333333], [0, 0.3333333333333333, 0, 0.6666666666666666], [0.3333333333333333, 0.3333333333333333, 0, 0.3333333333333333]]\n",
      "[[0, 0, 1.0, 0], [0, 1.0, 0, 0], [0, 0, 1.0, 0], [0, 0, 1.0, 0], [0, 0, 0, 1.0], [1.0, 0, 0, 0], [0, 0, 1.0, 0]]\n",
      "[[0.3333333333333333, 0.6666666666666666, 0, 0], [0.3333333333333333, 0.3333333333333333, 0, 0.3333333333333333], [0.6666666666666666, 0.3333333333333333, 0, 0], [0.3333333333333333, 0.6666666666666666, 0, 0], [0.3333333333333333, 0.3333333333333333, 0.3333333333333333, 0], [0.3333333333333333, 0.3333333333333333, 0, 0.3333333333333333], [0, 0.6666666666666666, 0, 0.3333333333333333]]\n",
      "[[0.32, 0.36, 0.32, 0], [0.32, 0.32, 0.36, 0], [0, 0.32, 0.48, 0.2], [0.2, 0.16, 0.16, 0.48], [0.36, 0.16, 0.32, 0.16], [0.36, 0.16, 0.16, 0.32], [0.16, 0.48, 0.36, 0]]\n",
      "[[0.5, 0, 0, 0.5], [0.5, 0, 0.5, 0], [0, 0, 0.5, 0.5], [0.5, 0, 0.5, 0], [0.5, 0.5, 0, 0], [0.5, 0.5, 0, 0], [0.5, 0, 0, 0.5]]\n",
      "[[1.0, 0, 0, 0], [0, 1.0, 0, 0], [0, 1.0, 0, 0], [0, 1.0, 0, 0], [0, 1.0, 0, 0], [0, 1.0, 0, 0], [0, 0, 1.0, 0]]\n",
      "[[0.4, 0.2, 0, 0.4], [0, 0.2, 0.2, 0.6], [0.2, 0, 0, 0.8], [0.4, 0, 0.2, 0.4], [0, 0.2, 0.4, 0.4], [0.2, 0.6, 0.2, 0], [0.2, 0, 0.4, 0.4]]\n",
      "[[0, 0, 0, 1.0], [0, 0.5, 0, 0.5], [0, 0.5, 0.5, 0], [1.0, 0, 0, 0], [0.5, 0, 0, 0.5], [0.5, 0.5, 0, 0], [0.5, 0, 0, 0.5]]\n",
      "[[0, 1.0, 0, 0], [0, 1.0, 0, 0], [1.0, 0, 0, 0], [1.0, 0, 0, 0], [0, 0, 1.0, 0], [1.0, 0, 0, 0], [0, 0, 1.0, 0]]\n",
      "[10.491823722889164, 9.494529927547847, 4.587919158722354, 10.388744356683366, 5.209910780604624, 11.392130170590253, 1.917644827121935, 7.37211018713117, 10.660019416423713, 19.255519720149728]\n",
      "90.77035226786415\n"
     ]
    },
    {
     "name": "stderr",
     "output_type": "stream",
     "text": [
      "C:\\Users\\ericp\\anaconda3\\lib\\site-packages\\ipykernel_launcher.py:5: RuntimeWarning: divide by zero encountered in log\n",
      "  \"\"\"\n",
      "C:\\Users\\ericp\\anaconda3\\lib\\site-packages\\ipykernel_launcher.py:5: RuntimeWarning: invalid value encountered in multiply\n",
      "  \"\"\"\n"
     ]
    }
   ],
   "source": [
    "scores = []\n",
    "for i in range(10):\n",
    "    scores.append(motif_test(i, motif_finder(i)))\n",
    "print(scores)\n",
    "print(sum(scores))"
   ]
  },
  {
   "cell_type": "code",
   "execution_count": null,
   "metadata": {},
   "outputs": [],
   "source": []
  }
 ],
 "metadata": {
  "kernelspec": {
   "display_name": "Python 3",
   "language": "python",
   "name": "python3"
  },
  "language_info": {
   "codemirror_mode": {
    "name": "ipython",
    "version": 3
   },
   "file_extension": ".py",
   "mimetype": "text/x-python",
   "name": "python",
   "nbconvert_exporter": "python",
   "pygments_lexer": "ipython3",
   "version": "3.7.6"
  }
 },
 "nbformat": 4,
 "nbformat_minor": 2
}
