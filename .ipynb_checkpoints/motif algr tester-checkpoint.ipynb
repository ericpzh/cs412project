{
 "cells": [
  {
   "cell_type": "code",
   "execution_count": 1,
   "metadata": {},
   "outputs": [],
   "source": [
    "import numpy as np\n",
    "import os\n",
    "from Bio import SeqIO #pip install biopython\n",
    "from Bio.Seq import Seq\n",
    "from Bio.SeqRecord import SeqRecord"
   ]
  },
  {
   "cell_type": "code",
   "execution_count": 71,
   "metadata": {},
   "outputs": [],
   "source": [
    "#step 2\n",
    "def motif_finder(index):\n",
    "    def kernel(x):\n",
    "        #return 1 \n",
    "        #return x \n",
    "        #return x**2 \n",
    "        return x**2/2\n",
    "        #return x**(x/2)\n",
    "        #return x**x \n",
    "        \n",
    "    location = 'data_set_' + str(index) + '/' \n",
    "    seqs = []\n",
    "    for record in SeqIO.parse(os.path.join(location, 'sequences' + \".fasta\"), \"fasta\"):\n",
    "        seqs.append(str(record.seq))\n",
    "\n",
    "    with open(os.path.join(location,'motiflength.txt'), 'r') as f:\n",
    "        ML = int(f.read())\n",
    "        #f.close()    \n",
    "    \n",
    "    \n",
    "    #find frq-ML pattern\n",
    "    candidates = {}\n",
    "    for seq in seqs:\n",
    "        visited = {}\n",
    "        for i in range(0,len(seq) - ML):\n",
    "            if seq[i:i + ML] not in candidates:\n",
    "                candidates[seq[i:i + ML]] = 1\n",
    "                visited[seq[i:i + ML]] = 1\n",
    "            else:\n",
    "                if seq[i:i + ML] not in visited:\n",
    "                    visited[seq[i:i + ML]] = 1\n",
    "                    candidates[seq[i:i + ML]] += 1\n",
    "                \n",
    "    sorted_candidates = sorted(candidates.items(), key=lambda x: -x[1])            \n",
    "    \n",
    "    #print(sorted_candidates)\n",
    "    \n",
    "    min_sup = max(candidates.values()) - 3\n",
    "    \n",
    "    #print(min_sup)\n",
    "    \n",
    "    frq_ml = [[list(i[0]), i[1]] for i in sorted_candidates if i[1] >= min_sup] #item, weight\n",
    "    \n",
    "    #print(frq_ml)\n",
    "    \n",
    "    motif = []\n",
    "    for i in range(ML):\n",
    "        cols = {}\n",
    "        sum_ = 0\n",
    "        for item in frq_ml:\n",
    "            sum_ += kernel(item[1])\n",
    "            if item[0][i] not in cols:\n",
    "                cols[item[0][i]] = kernel(item[1])\n",
    "            else:\n",
    "                cols[item[0][i]] += kernel(item[1])\n",
    "                \n",
    "        motif.append([\n",
    "            cols['A']/sum_ if 'A' in cols else 0, \n",
    "            cols['C']/sum_ if 'C' in cols else 0, \n",
    "            cols['G']/sum_ if 'G' in cols else 0, \n",
    "            cols['T']/sum_ if 'T' in cols else 0])\n",
    "    \n",
    "    #print(motif)\n",
    "    return motif"
   ]
  },
  {
   "cell_type": "code",
   "execution_count": 72,
   "metadata": {},
   "outputs": [],
   "source": [
    "def motif_test(index, motif):\n",
    "    def KL(a, b):\n",
    "        a = np.asarray(a, dtype=np.float)\n",
    "        b = np.asarray(b, dtype=np.float)\n",
    "        return np.sum(np.where(a != 0, a * np.log(a / b), 0))\n",
    "    \n",
    "    location = 'data_set_' + str(index) + '/' \n",
    "    with open(os.path.join(location,'motif.txt'), 'r') as f:\n",
    "        x = f.read().strip().split('\\n')\n",
    "        y = [i.strip().split(',')[:-1] for i in x][1:]\n",
    "        z = [[float(j) for j in i] for i in y]\n",
    "        #f.close()   \n",
    "        \n",
    "    diff = 0\n",
    "    for i in range(len(motif)):\n",
    "        for j in range(4):\n",
    "            diff += abs(motif[i][j] - z[i][j])\n",
    "    \n",
    "    diff = 0\n",
    "    for i in range(len(motif)):\n",
    "        #print(motif[i], z[i])\n",
    "        kl = KL(motif[i], z[i]) \n",
    "        diff += kl if not np.isinf(kl) else 0 #ingore inf\n",
    "    #print(motif)\n",
    "    #print(z)\n",
    "    return diff\n",
    "    "
   ]
  },
  {
   "cell_type": "code",
   "execution_count": 73,
   "metadata": {},
   "outputs": [
    {
     "name": "stderr",
     "output_type": "stream",
     "text": [
      "C:\\Users\\ericp\\anaconda3\\lib\\site-packages\\ipykernel_launcher.py:5: RuntimeWarning: invalid value encountered in true_divide\n",
      "  \"\"\"\n"
     ]
    },
    {
     "name": "stdout",
     "output_type": "stream",
     "text": [
      "[0.7399156519445274, 0.7551146288058742, 0.7395272132288767, 0.8108177689268262, 0.8259665053236929, 0.946601218318568, 1.1254138320103355, 0.904058400554756, 0.7203856702261222, 0.8394969038400574, 1.1534106473530188, 1.135814017428569, 1.3202322939553115, 1.3871264755070887, 1.2207264697024744, 1.089571207717383, 1.420294411082528, 1.3598935238303151, 1.2859121502027302, 1.4019790153438811, 0.0, 0.0, 0.0, 0.0, 0.0, 0.0, 0.0, 0.0, 0.0, 0.0, 1.368432344266588, 1.5494518239787847, 1.2457524924788252, 1.1197965807443258, 1.4533739718761476, 1.4394144989523843, 1.9640271085274024, 1.5783973268854963, 1.2667146725099627, 1.3254329664817945, 1.1968723573765638, 1.1796455687354415, 1.1131163546170662, 1.26629588762537, 1.1534458940783352, 1.1560595843636112, 1.4141646590195698, 1.0905744304726857, 1.3297697104974853, 1.2690014126428628, 1.4408304398341798, 1.2457151222721294, 1.0357484011924198, 1.4923736748907097, 1.1575078018650398, 1.2212833065993838, 1.423519209454356, 1.2656012331249165, 1.1884224726784294, 1.2209582569368804, 1.1621829564509798, 1.218845694780598, 1.2910607860580547, 1.2016881441607103, 1.098997740924671, 1.2871153788137242, 1.3572545815405703, 1.3371957357909419, 1.5209631455741894, 1.2455572008309541]\n",
      "73.07481893520747\n"
     ]
    }
   ],
   "source": [
    "scores = []\n",
    "for i in range(70):\n",
    "    scores.append(motif_test(i, motif_finder(i)))\n",
    "print(scores)\n",
    "print(sum(scores))"
   ]
  },
  {
   "cell_type": "code",
   "execution_count": null,
   "metadata": {},
   "outputs": [],
   "source": []
  }
 ],
 "metadata": {
  "kernelspec": {
   "display_name": "Python 3",
   "language": "python",
   "name": "python3"
  },
  "language_info": {
   "codemirror_mode": {
    "name": "ipython",
    "version": 3
   },
   "file_extension": ".py",
   "mimetype": "text/x-python",
   "name": "python",
   "nbconvert_exporter": "python",
   "pygments_lexer": "ipython3",
   "version": "3.7.6"
  }
 },
 "nbformat": 4,
 "nbformat_minor": 2
}
